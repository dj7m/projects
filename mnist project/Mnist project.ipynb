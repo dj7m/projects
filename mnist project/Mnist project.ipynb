{
 "cells": [
  {
   "cell_type": "code",
   "execution_count": 3,
   "id": "hundred-mount",
   "metadata": {},
   "outputs": [
    {
     "name": "stdout",
     "output_type": "stream",
     "text": [
      "Downloading data from https://storage.googleapis.com/tensorflow/tf-keras-datasets/mnist.npz\n",
      "11493376/11490434 [==============================] - 3s 0us/step\n",
      "shape of train_data (60000, 28, 28)\n",
      "shape of train_target (60000,)\n",
      "shape of test_data (10000, 28, 28)\n",
      "shape of test_target (10000,)\n"
     ]
    }
   ],
   "source": [
    "from keras.datasets import mnist\n",
    "(train_data,train_target),(test_data,test_target)=mnist.load_data()\n",
    "print('shape of train_data',train_data.shape)\n",
    "print('shape of train_target',train_target.shape)\n",
    "print('shape of test_data',test_data.shape)\n",
    "print('shape of test_target',test_target.shape)"
   ]
  },
  {
   "cell_type": "code",
   "execution_count": 4,
   "id": "capable-console",
   "metadata": {},
   "outputs": [
    {
     "data": {
      "text/plain": [
       "<matplotlib.image.AxesImage at 0x1b6e6edca30>"
      ]
     },
     "execution_count": 4,
     "metadata": {},
     "output_type": "execute_result"
    },
    {
     "data": {
      "image/png": "[encoded data removed]",
      "text/plain": [
       "<Figure size 432x288 with 1 Axes>"
      ]
     },
     "metadata": {
      "needs_background": "light"
     },
     "output_type": "display_data"
    }
   ],
   "source": [
    "import matplotlib.pyplot as plt\n",
    "plt.imshow(train_data[0],cmap='gray')"
   ]
  },
  {
   "cell_type": "code",
   "execution_count": 5,
   "id": "tested-redhead",
   "metadata": {},
   "outputs": [
    {
     "name": "stdout",
     "output_type": "stream",
     "text": [
      "5\n"
     ]
    }
   ],
   "source": [
    "print(train_target[0])"
   ]
  },
  {
   "cell_type": "code",
   "execution_count": 9,
   "id": "spare-nicaragua",
   "metadata": {},
   "outputs": [
    {
     "name": "stdout",
     "output_type": "stream",
     "text": [
      "Model: \"sequential_2\"\n",
      "_________________________________________________________________\n",
      "Layer (type)                 Output Shape              Param #   \n",
      "=================================================================\n",
      "flatten_2 (Flatten)          (None, 784)               0         \n",
      "_________________________________________________________________\n",
      "dense_5 (Dense)              (None, 256)               200960    \n",
      "_________________________________________________________________\n",
      "dense_6 (Dense)              (None, 128)               32896     \n",
      "_________________________________________________________________\n",
      "dense_7 (Dense)              (None, 64)                8256      \n",
      "_________________________________________________________________\n",
      "dense_8 (Dense)              (None, 10)                650       \n",
      "=================================================================\n",
      "Total params: 242,762\n",
      "Trainable params: 242,762\n",
      "Non-trainable params: 0\n",
      "_________________________________________________________________\n"
     ]
    }
   ],
   "source": [
    "from keras.models import Sequential\n",
    "from keras.layers import Dense,Flatten\n",
    "model=Sequential()\n",
    "model.add(Flatten(input_shape=(28,28)))\n",
    "model.add(Dense(256,activation='relu'))\n",
    "model.add(Dense(128,activation='relu'))\n",
    "model.add(Dense(64,activation='relu'))\n",
    "model.add(Dense(10,activation='softmax'))\n",
    "model.compile(loss='categorical_crossentropy',optimizer='adam',metrics=['accuracy'])\n",
    "model.summary()\n"
   ]
  },
  {
   "cell_type": "code",
   "execution_count": 10,
   "id": "reverse-agenda",
   "metadata": {},
   "outputs": [],
   "source": [
    "from keras.utils import np_utils\n",
    "train_target=np_utils.to_categorical(train_target)\n",
    "test_target=np_utils.to_categorical(test_target)"
   ]
  },
  {
   "cell_type": "code",
   "execution_count": 11,
   "id": "normal-albania",
   "metadata": {},
   "outputs": [
    {
     "name": "stdout",
     "output_type": "stream",
     "text": [
      "[[0. 0. 0. 0. 0. 1. 0. 0. 0. 0.]\n",
      " [1. 0. 0. 0. 0. 0. 0. 0. 0. 0.]\n",
      " [0. 0. 0. 0. 1. 0. 0. 0. 0. 0.]\n",
      " [0. 1. 0. 0. 0. 0. 0. 0. 0. 0.]\n",
      " [0. 0. 0. 0. 0. 0. 0. 0. 0. 1.]\n",
      " [0. 0. 1. 0. 0. 0. 0. 0. 0. 0.]\n",
      " [0. 1. 0. 0. 0. 0. 0. 0. 0. 0.]\n",
      " [0. 0. 0. 1. 0. 0. 0. 0. 0. 0.]\n",
      " [0. 1. 0. 0. 0. 0. 0. 0. 0. 0.]\n",
      " [0. 0. 0. 0. 1. 0. 0. 0. 0. 0.]]\n"
     ]
    }
   ],
   "source": [
    "print(train_target[:10])"
   ]
  },
  {
   "cell_type": "code",
   "execution_count": 13,
   "id": "orange-montreal",
   "metadata": {},
   "outputs": [
    {
     "name": "stdout",
     "output_type": "stream",
     "text": [
      "Epoch 1/20\n",
      "1500/1500 [==============================] - 20s 13ms/step - loss: 0.0568 - accuracy: 0.9839 - val_loss: 0.1360 - val_accuracy: 0.9691\n",
      "Epoch 2/20\n",
      "1500/1500 [==============================] - 19s 13ms/step - loss: 0.0579 - accuracy: 0.9841 - val_loss: 0.1315 - val_accuracy: 0.9718\n",
      "Epoch 3/20\n",
      "1500/1500 [==============================] - 21s 14ms/step - loss: 0.0526 - accuracy: 0.9859 - val_loss: 0.1293 - val_accuracy: 0.9732\n",
      "Epoch 4/20\n",
      "1500/1500 [==============================] - 19s 13ms/step - loss: 0.0527 - accuracy: 0.9859 - val_loss: 0.1467 - val_accuracy: 0.9723\n",
      "Epoch 5/20\n",
      "1500/1500 [==============================] - 21s 14ms/step - loss: 0.0459 - accuracy: 0.9882 - val_loss: 0.1532 - val_accuracy: 0.9711\n",
      "Epoch 6/20\n",
      "1500/1500 [==============================] - 21s 14ms/step - loss: 0.0469 - accuracy: 0.9880 - val_loss: 0.1428 - val_accuracy: 0.9726\n",
      "Epoch 7/20\n",
      "1500/1500 [==============================] - 20s 14ms/step - loss: 0.0441 - accuracy: 0.9897 - val_loss: 0.2052 - val_accuracy: 0.9612\n",
      "Epoch 8/20\n",
      "1500/1500 [==============================] - 20s 13ms/step - loss: 0.0427 - accuracy: 0.9891 - val_loss: 0.1501 - val_accuracy: 0.9735\n",
      "Epoch 9/20\n",
      "1500/1500 [==============================] - 19s 13ms/step - loss: 0.0362 - accuracy: 0.9914 - val_loss: 0.1503 - val_accuracy: 0.9747\n",
      "Epoch 10/20\n",
      "1500/1500 [==============================] - 19s 13ms/step - loss: 0.0441 - accuracy: 0.9909 - val_loss: 0.1744 - val_accuracy: 0.9728\n",
      "Epoch 11/20\n",
      "1500/1500 [==============================] - 20s 14ms/step - loss: 0.0325 - accuracy: 0.9922 - val_loss: 0.1737 - val_accuracy: 0.9741\n",
      "Epoch 12/20\n",
      "1500/1500 [==============================] - 20s 13ms/step - loss: 0.0376 - accuracy: 0.9914 - val_loss: 0.1907 - val_accuracy: 0.9704\n",
      "Epoch 13/20\n",
      "1500/1500 [==============================] - 20s 13ms/step - loss: 0.0355 - accuracy: 0.9921 - val_loss: 0.1811 - val_accuracy: 0.9725\n",
      "Epoch 14/20\n",
      "1500/1500 [==============================] - 20s 13ms/step - loss: 0.0311 - accuracy: 0.9931 - val_loss: 0.1879 - val_accuracy: 0.9732\n",
      "Epoch 15/20\n",
      "1500/1500 [==============================] - 20s 13ms/step - loss: 0.0330 - accuracy: 0.9930 - val_loss: 0.1835 - val_accuracy: 0.9708\n",
      "Epoch 16/20\n",
      "1500/1500 [==============================] - 20s 13ms/step - loss: 0.0316 - accuracy: 0.9930 - val_loss: 0.2244 - val_accuracy: 0.9743\n",
      "Epoch 17/20\n",
      "1500/1500 [==============================] - 20s 13ms/step - loss: 0.0328 - accuracy: 0.9934 - val_loss: 0.1787 - val_accuracy: 0.9758\n",
      "Epoch 18/20\n",
      "1500/1500 [==============================] - 19s 13ms/step - loss: 0.0285 - accuracy: 0.9941 - val_loss: 0.1880 - val_accuracy: 0.9734\n",
      "Epoch 19/20\n",
      "1500/1500 [==============================] - 20s 13ms/step - loss: 0.0323 - accuracy: 0.9934 - val_loss: 0.2055 - val_accuracy: 0.9766\n",
      "Epoch 20/20\n",
      "1500/1500 [==============================] - 24s 16ms/step - loss: 0.0281 - accuracy: 0.9946 - val_loss: 0.2207 - val_accuracy: 0.9728\n"
     ]
    },
    {
     "data": {
      "text/plain": [
       "<tensorflow.python.keras.callbacks.History at 0x1b6eab23d90>"
      ]
     },
     "execution_count": 13,
     "metadata": {},
     "output_type": "execute_result"
    }
   ],
   "source": [
    "model.fit(train_data,train_target,epochs=20,validation_split=0.2)"
   ]
  },
  {
   "cell_type": "code",
   "execution_count": 20,
   "id": "capital-butterfly",
   "metadata": {},
   "outputs": [
    {
     "data": {
      "image/png": "[encoded data removed]",
      "text/plain": [
       "<Figure size 432x288 with 1 Axes>"
      ]
     },
     "metadata": {
      "needs_background": "light"
     },
     "output_type": "display_data"
    }
   ],
   "source": [
    "from matplotlib import pyplot as plt\n",
    "plt.plot(model.history.history['loss'],label='loss')\n",
    "plt.plot(model.history.history['val_loss'],label='validation_loss')\n",
    "plt.legend()\n",
    "plt.xlabel('# epochs')\n",
    "plt.ylabel('loss')\n",
    "plt.show()\n",
    "#visualizing the loss"
   ]
  },
  {
   "cell_type": "code",
   "execution_count": 21,
   "id": "regulation-today",
   "metadata": {},
   "outputs": [
    {
     "data": {
      "text/plain": [
       "Text(0, 0.5, 'accuracy')"
      ]
     },
     "execution_count": 21,
     "metadata": {},
     "output_type": "execute_result"
    },
    {
     "data": {
      "image/png": "[encoded data removed]",
      "text/plain": [
       "<Figure size 432x288 with 1 Axes>"
      ]
     },
     "metadata": {
      "needs_background": "light"
     },
     "output_type": "display_data"
    }
   ],
   "source": [
    "plt.plot(model.history.history['accuracy'],label='loss')\n",
    "plt.plot(model.history.history['val_accuracy'],label='validation_accuracy')\n",
    "plt.legend()\n",
    "plt.xlabel('# epochs')\n",
    "plt.ylabel('accuracy')\n",
    "#visualizing the accuracy"
   ]
  },
  {
   "cell_type": "code",
   "execution_count": 27,
   "id": "legal-sullivan",
   "metadata": {},
   "outputs": [
    {
     "name": "stdout",
     "output_type": "stream",
     "text": [
      "313/313 [==============================] - 3s 9ms/step - loss: 0.1916 - accuracy: 0.9746\n",
      "[0.19159367680549622, 0.9746000170707703]\n"
     ]
    }
   ],
   "source": [
    "print(model.evaluate(test_data,test_target))"
   ]
  },
  {
   "cell_type": "code",
   "execution_count": 28,
   "id": "hindu-astronomy",
   "metadata": {},
   "outputs": [],
   "source": [
    "model.save_weights('FNN-MNIST.h5')"
   ]
  },
  {
   "cell_type": "code",
   "execution_count": null,
   "id": "flexible-canberra",
   "metadata": {},
   "outputs": [],
   "source": []
  }
 ],
 "metadata": {
  "kernelspec": {
   "display_name": "Python 3",
   "language": "python",
   "name": "python3"
  },
  "language_info": {
   "codemirror_mode": {
    "name": "ipython",
    "version": 3
   },
   "file_extension": ".py",
   "mimetype": "text/x-python",
   "name": "python",
   "nbconvert_exporter": "python",
   "pygments_lexer": "ipython3",
   "version": "3.8.5"
  }
 },
 "nbformat": 4,
 "nbformat_minor": 5
}
